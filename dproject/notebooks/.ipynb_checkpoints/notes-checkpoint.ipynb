{
 "cells": [
  {
   "cell_type": "markdown",
   "metadata": {},
   "source": [
    "## Python Notes:\n",
    "\n",
    "\n",
    "### Create a Basic Project \n",
    "\n",
    "[1]  python -m django --version\n",
    "#=>>>>>>see the output\n",
    "\n",
    "[2] pip install django # best if you create virtual environment - I dont do that\n",
    "#See: https://docs.djangoproject.com/en/2.1/intro/tutorial01/ for more details\n",
    "\n",
    "[3] django-admin startproject dproject # To start the project\n",
    "you will see the following dierctory structure:\n",
    "\n",
    "```        LearnDjango/\n",
    "            manage.py\n",
    "            dproject/\n",
    "                __init__.py\n",
    "                settings.py\n",
    "                urls.py\n",
    "                wsgi.py\n",
    "```\n",
    "\n",
    "[4] python manage.py runserver 0.0.0.0:8000  # to run the server on 8000\n",
    "\n",
    "### Create a Application\n",
    "\n",
    "An application can live anywhere independent of peoject. Project brings apps together.\n",
    "\n",
    "[5]  python manage.py startapp polls\n",
    "\n",
    "```\n",
    "|-- db.sqlite3\n",
    "|-- ds\n",
    "|   |-- __init__.py\n",
    "|   |-- settings.py\n",
    "|   |-- urls.py\n",
    "|   `-- wsgi.py\n",
    "|-- manage.py\n",
    "|-- polls\n",
    "|   |-- __init__.py\n",
    "|   |-- admin.py\n",
    "|   |-- apps.py\n",
    "|   |-- migrations\n",
    "|   |   `-- __init__.py\n",
    "|   |-- models.py\n",
    "|   |-- tests.py\n",
    "|   `-- views.py\n",
    "`-- run.py\n",
    "```\n",
    "\n",
    "[ 6 ] edit mysite/settings.py\n",
    "add polls to installed apps\n",
    "\n",
    "```\n",
    "INSTALLED_APPS = (\n",
    "    'django.contrib.admin',\n",
    "    'django.contrib.auth',\n",
    "    'django.contrib.contenttypes',\n",
    "    'django.contrib.sessions',\n",
    "    'django.contrib.messages',\n",
    "    'django.contrib.staticfiles',\n",
    "    'polls',\n",
    ")\n",
    "```\n",
    "### EDit the following to removing annoying pass checks\n",
    "\n",
    "```\n",
    "AUTH_PASSWORD_VALIDATORS = [\n",
    "#    {\n",
    "#        'NAME': 'django.contrib.auth.password_validation.UserAttributeSimilarityValidator',\n",
    "#    },\n",
    "    {\n",
    "        'NAME': 'django.contrib.auth.password_validation.MinimumLengthValidator',\n",
    "        'OPTIONS': { 'min_length' : 4 },\n",
    "    },\n",
    "#    {\n",
    "#        'NAME': 'django.contrib.auth.password_validation.CommonPasswordValidator',\n",
    "#    },\n",
    "#    {\n",
    "#        'NAME': 'django.contrib.auth.password_validation.NumericPasswordValidator',\n",
    "#    },\n",
    "]\n",
    "```\n",
    "\n",
    "[-7-] python manage.py makemigrations polls\n",
    "\n",
    "[ ] python manage.py createsuperuser\n",
    "\n",
    "#Run\n",
    "[ ] python manage.py migrate\n",
    "to migrate settings"
   ]
  },
  {
   "cell_type": "code",
   "execution_count": null,
   "metadata": {},
   "outputs": [],
   "source": [
    "# Django uses SQLlite database - here is an exmaple on how to use it.\n",
    "import sqlite3\n",
    "conn = sqlite3.connect('example.db')\n",
    "c = conn.cursor()\n",
    "\n",
    "# Create table\n",
    "c.execute('''CREATE TABLE stocks\n",
    "             (date text, trans text, symbol text, qty real, price real)''')\n",
    "\n",
    "# Insert a row of data\n",
    "c.execute(\"INSERT INTO stocks VALUES ('2006-01-05','BUY','RHAT',100,35.14)\")\n",
    "\n",
    "# Save (commit) the changes\n",
    "conn.commit()\n",
    "\n",
    "# We can also close the connection if we are done with it.\n",
    "# Just be sure any changes have been committed or they will be lost.\n",
    "conn.close()\n",
    "\n",
    "conn = sqlite3.connect('example.db')\n",
    "c = conn.cursor()\n",
    "symbol = 'RHAT'\n",
    "c.execute(\"SELECT * FROM stocks WHERE symbol = '{symbol}'\")\n",
    "\n",
    "# Do this instead\n",
    "t = ('RHAT',)\n",
    "c.execute('SELECT * FROM stocks WHERE symbol=?', t)\n",
    "print(c.fetchone())\n",
    "\n",
    "# Larger example that inserts many records at a time\n",
    "purchases = [('2006-03-28', 'BUY', 'IBM', 1000, 45.00),\n",
    "             ('2006-04-05', 'BUY', 'MSFT', 1000, 72.00),\n",
    "             ('2006-04-06', 'SELL', 'IBM', 500, 53.00),\n",
    "            ]\n",
    "c.executemany('INSERT INTO stocks VALUES (?,?,?,?,?)', purchases)\n",
    "conn.close()\n"
   ]
  },
  {
   "cell_type": "code",
   "execution_count": null,
   "metadata": {},
   "outputs": [],
   "source": [
    "import os;\n",
    "os.path.basename(\"/sada/fddf/sada.jkl\")\n",
    "\n",
    "t=\"/sada/fddf/sada.jkl\"\n",
    "t.find (\"/fddf/\")"
   ]
  },
  {
   "cell_type": "markdown",
   "metadata": {},
   "source": [
    "### Some Utitlities"
   ]
  },
  {
   "cell_type": "code",
   "execution_count": null,
   "metadata": {},
   "outputs": [],
   "source": [
    "for importer, modname, ispkg in M.iter_modules(M.__path__, prefix):\n",
    "    print (\"Found submodule %s (is a package: %s)\" % (modname, ispkg))\n",
    "    module = __import__(modname, fromlist=\"dummy\")\n",
    "    print (\"Imported\", module)"
   ]
  },
  {
   "cell_type": "code",
   "execution_count": null,
   "metadata": {},
   "outputs": [],
   "source": [
    "[name for _, name, _ in pkgutil.iter_modules(['PyModules'])]"
   ]
  },
  {
   "cell_type": "code",
   "execution_count": 8,
   "metadata": {},
   "outputs": [
    {
     "name": "stdout",
     "output_type": "stream",
     "text": [
      "modules.test <class 'str'> test1 <function test1 at 0x10ec8bf28> <class 'function'> True\n"
     ]
    }
   ],
   "source": [
    "import sys\n",
    "import pkgutil\n",
    "#import modules.test1;\n",
    "\n",
    "func='modules.test.test1'\n",
    "spl = func.split('.');\n",
    "if ( len(spl) < 2):\n",
    "    print(\"Hmmm ... \")\n",
    "modName = \".\".join(spl[:-1])\n",
    "funName = spl[-1]\n",
    "for v in sys.modules:\n",
    "    if (v.startswith(modName)):\n",
    "        method= getattr(sys.modules[v], funName)\n",
    "        print(v, type(v), funName, method, type(method), callable(method))\n",
    "        method(None)"
   ]
  },
  {
   "cell_type": "code",
   "execution_count": 4,
   "metadata": {},
   "outputs": [
    {
     "data": {
      "text/plain": [
       "<module 'modules.test' from '/opt/LMCO/git/notebooks/no-git/LearnDjango/dproject/notebooks/modules/test.py'>"
      ]
     },
     "execution_count": 4,
     "metadata": {},
     "output_type": "execute_result"
    }
   ],
   "source": [
    "modname='modules.test'\n",
    "__import__(modname, fromlist=\"dummy\")\n"
   ]
  },
  {
   "cell_type": "code",
   "execution_count": 24,
   "metadata": {},
   "outputs": [
    {
     "ename": "NameError",
     "evalue": "name 'filename' is not defined",
     "output_type": "error",
     "traceback": [
      "\u001b[0;31m---------------------------------------------------------------------------\u001b[0m",
      "\u001b[0;31mNameError\u001b[0m                                 Traceback (most recent call last)",
      "\u001b[0;32m<ipython-input-24-5e7fca70f9d7>\u001b[0m in \u001b[0;36m<module>\u001b[0;34m()\u001b[0m\n\u001b[1;32m      1\u001b[0m \u001b[0;32mimport\u001b[0m \u001b[0mos\u001b[0m\u001b[0;34m\u001b[0m\u001b[0m\n\u001b[1;32m      2\u001b[0m \u001b[0mos\u001b[0m\u001b[0;34m.\u001b[0m\u001b[0mpath\u001b[0m\u001b[0;34m.\u001b[0m\u001b[0mdirname\u001b[0m\u001b[0;34m(\u001b[0m\u001b[0;34m\"/tmp/test/asdsd\"\u001b[0m\u001b[0;34m)\u001b[0m\u001b[0;34m\u001b[0m\u001b[0m\n\u001b[0;32m----> 3\u001b[0;31m \u001b[0mos\u001b[0m\u001b[0;34m.\u001b[0m\u001b[0mmakedirs\u001b[0m\u001b[0;34m(\u001b[0m\u001b[0mos\u001b[0m\u001b[0;34m.\u001b[0m\u001b[0mpath\u001b[0m\u001b[0;34m.\u001b[0m\u001b[0mdirname\u001b[0m\u001b[0;34m(\u001b[0m\u001b[0mfilename\u001b[0m\u001b[0;34m,\u001b[0m \u001b[0mmode\u001b[0m\u001b[0;34m=\u001b[0m\u001b[0;36m755\u001b[0m\u001b[0;34m,\u001b[0m \u001b[0mexist_ok\u001b[0m\u001b[0;34m=\u001b[0m\u001b[0;32mFalse\u001b[0m\u001b[0;34m)\u001b[0m \u001b[0;34m)\u001b[0m\u001b[0;34m\u001b[0m\u001b[0m\n\u001b[0m",
      "\u001b[0;31mNameError\u001b[0m: name 'filename' is not defined"
     ]
    }
   ],
   "source": [
    "import os\n",
    "dd=os.path.dirname(\"/tmp/test/asdsd\")\n",
    "os.makedirs(os.path.dirname(dd, mode=755, exist_ok=False) )\n"
   ]
  },
  {
   "cell_type": "code",
   "execution_count": 13,
   "metadata": {},
   "outputs": [
    {
     "data": {
      "text/plain": [
       "type"
      ]
     },
     "execution_count": 13,
     "metadata": {},
     "output_type": "execute_result"
    }
   ],
   "source": [
    "type(h)"
   ]
  }
 ],
 "metadata": {
  "anaconda-cloud": {},
  "kernelspec": {
   "display_name": "Python 3",
   "language": "python",
   "name": "python3"
  },
  "language_info": {
   "codemirror_mode": {
    "name": "ipython",
    "version": 3
   },
   "file_extension": ".py",
   "mimetype": "text/x-python",
   "name": "python",
   "nbconvert_exporter": "python",
   "pygments_lexer": "ipython3",
   "version": "3.6.5"
  }
 },
 "nbformat": 4,
 "nbformat_minor": 2
}
