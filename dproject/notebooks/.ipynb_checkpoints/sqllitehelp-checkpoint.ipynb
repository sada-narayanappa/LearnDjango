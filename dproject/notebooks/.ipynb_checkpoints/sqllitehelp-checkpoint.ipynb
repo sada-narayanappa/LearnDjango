{
 "cells": [
  {
   "cell_type": "code",
   "execution_count": 9,
   "metadata": {},
   "outputs": [],
   "source": [
    "import sqlite3\n",
    "import json\n",
    "\n",
    "conn = sqlite3.connect('../db.iris', timeout=10)\n",
    "c = conn.cursor()\n",
    "\n",
    "try:\n",
    "    c.execute('''DROP TABLE inv_models''')\n",
    "except:\n",
    "    pass;\n",
    "\n",
    "c.execute('''\n",
    "    CREATE TABLE IF NOT EXISTS  inv_models \n",
    "    (id integer, create_dt text, user text, model_name text, file_name text, description text)''')\n",
    "\n",
    "c.execute(\"INSERT INTO inv_models VALUES (1, '2018-09-30', '', 's1.inv.xml','/NEC/app/a.inv.xml', 'This is a sample xml')\")\n",
    "c.execute(\"INSERT INTO inv_models VALUES (2, '2018-09-30', '', 's1.inv.xml','/NEC/app/a.inv.xml', 'This is a sample xml')\")\n",
    "c.execute(\"INSERT INTO inv_models VALUES (3, '2018-09-30', '', 's1.inv.xml','/NEC/app/a.inv.xml', 'This is a sample xml')\")\n",
    "c.execute(\"INSERT INTO inv_models VALUES (4, '2018-09-30', '', 's1.inv.xml','/NEC/app/a.inv.xml', 'This is a sample xml')\")\n",
    "c.execute(\"INSERT INTO inv_models VALUES (5, '2018-09-30', '', 's1.inv.xml','/NEC/app/a.inv.xml', 'This is a sample xml')\")\n",
    "c.execute(\"INSERT INTO inv_models VALUES (6, '2018-09-30', '', 's1.inv.xml','/NEC/app/a.inv.xml', 'This is a sample xml')\")\n",
    "c.execute(\"INSERT INTO inv_models VALUES (7, '2018-09-30', '', 's1.inv.xml','/NEC/app/a.inv.xml', 'This is a sample xml')\")\n",
    "c.execute(\"INSERT INTO inv_models VALUES (8, '2018-09-30', '', 's1.inv.xml','/NEC/app/a.inv.xml', 'This is a sample xml')\")\n",
    "\n",
    "conn.commit()\n",
    "conn.close()"
   ]
  },
  {
   "cell_type": "code",
   "execution_count": 19,
   "metadata": {},
   "outputs": [
    {
     "data": {
      "text/plain": [
       "'{\"cols\": [\"id\", \"create_dt\", \"model_name\", \"file_name\", \"description\"], \"rows\": [[1, \"2018-09-30\", \"s1.inv.xml\", \"/NEC/app/a.inv.xml\", \"This is a sample xml\"], [2, \"2018-09-30\", \"s1.inv.xml\", \"/NEC/app/a.inv.xml\", \"This is a sample xml\"], [3, \"2018-09-30\", \"s1.inv.xml\", \"/NEC/app/a.inv.xml\", \"This is a sample xml\"], [4, \"2018-09-30\", \"s1.inv.xml\", \"/NEC/app/a.inv.xml\", \"This is a sample xml\"], [5, \"2018-09-30\", \"s1.inv.xml\", \"/NEC/app/a.inv.xml\", \"This is a sample xml\"], [6, \"2018-09-30\", \"s1.inv.xml\", \"/NEC/app/a.inv.xml\", \"This is a sample xml\"], [7, \"2018-09-30\", \"s1.inv.xml\", \"/NEC/app/a.inv.xml\", \"This is a sample xml\"], [8, \"2018-09-30\", \"s1.inv.xml\", \"/NEC/app/a.inv.xml\", \"This is a sample xml\"]]}'"
      ]
     },
     "execution_count": 19,
     "metadata": {},
     "output_type": "execute_result"
    }
   ],
   "source": [
    "def execSQLLite(q):\n",
    "    conn = sqlite3.connect('../db.iris', timeout=10)\n",
    "    c = conn.cursor()\n",
    "\n",
    "    try:\n",
    "        c.execute(q);\n",
    "        rows = c.fetchall()\n",
    "        cnames = list(map(lambda x: x[0], c.description))\n",
    "        ret= {'cols': cnames, 'rows':rows}\n",
    "        return json.dumps(ret)\n",
    "    except Exception as e:\n",
    "        return str(e)\n",
    "    conn.close()\n",
    "    \n",
    "execSQLLite(\"SELECT 'NO Query' as col from DUAL\")\n",
    "execSQLLite(\"SELECT * FROM inv_models\")\n"
   ]
  },
  {
   "cell_type": "code",
   "execution_count": 22,
   "metadata": {},
   "outputs": [],
   "source": [
    "import pandas as pd\n",
    "df=pd.read_csv(\"../data/inv_models.csv\")"
   ]
  },
  {
   "cell_type": "code",
   "execution_count": 27,
   "metadata": {},
   "outputs": [
    {
     "data": {
      "text/html": [
       "<div>\n",
       "<style scoped>\n",
       "    .dataframe tbody tr th:only-of-type {\n",
       "        vertical-align: middle;\n",
       "    }\n",
       "\n",
       "    .dataframe tbody tr th {\n",
       "        vertical-align: top;\n",
       "    }\n",
       "\n",
       "    .dataframe thead th {\n",
       "        text-align: right;\n",
       "    }\n",
       "</style>\n",
       "<table border=\"1\" class=\"dataframe\">\n",
       "  <thead>\n",
       "    <tr style=\"text-align: right;\">\n",
       "      <th></th>\n",
       "      <th>id</th>\n",
       "      <th>create_dt</th>\n",
       "      <th>user</th>\n",
       "      <th>name</th>\n",
       "      <th>file_name</th>\n",
       "      <th>description</th>\n",
       "    </tr>\n",
       "  </thead>\n",
       "  <tbody>\n",
       "    <tr>\n",
       "      <th>0</th>\n",
       "      <td>1</td>\n",
       "      <td>2018-09-30</td>\n",
       "      <td></td>\n",
       "      <td>s1.inv.xml</td>\n",
       "      <td>/NEC/app/a.inv.xml</td>\n",
       "      <td>This is a , interesting File...</td>\n",
       "    </tr>\n",
       "    <tr>\n",
       "      <th>1</th>\n",
       "      <td>2</td>\n",
       "      <td>2018-09-30</td>\n",
       "      <td></td>\n",
       "      <td>s1.inv.xml</td>\n",
       "      <td>/NEC/app/a.inv.xml</td>\n",
       "      <td>This is a , interesting File...</td>\n",
       "    </tr>\n",
       "    <tr>\n",
       "      <th>2</th>\n",
       "      <td>3</td>\n",
       "      <td>2018-09-30</td>\n",
       "      <td></td>\n",
       "      <td>s1.inv.xml</td>\n",
       "      <td>/NEC/app/a.inv.xml</td>\n",
       "      <td>This is a , interesting File...</td>\n",
       "    </tr>\n",
       "    <tr>\n",
       "      <th>3</th>\n",
       "      <td>4</td>\n",
       "      <td>2018-09-30</td>\n",
       "      <td></td>\n",
       "      <td>s1.inv.xml</td>\n",
       "      <td>/NEC/app/a.inv.xml</td>\n",
       "      <td>This is a , interesting File...</td>\n",
       "    </tr>\n",
       "    <tr>\n",
       "      <th>4</th>\n",
       "      <td>5</td>\n",
       "      <td>2018-09-30</td>\n",
       "      <td></td>\n",
       "      <td>s1.inv.xml</td>\n",
       "      <td>/NEC/app/a.inv.xml</td>\n",
       "      <td>This is a , interesting File...</td>\n",
       "    </tr>\n",
       "    <tr>\n",
       "      <th>5</th>\n",
       "      <td>6</td>\n",
       "      <td>2018-09-30</td>\n",
       "      <td></td>\n",
       "      <td>s1.inv.xml</td>\n",
       "      <td>/NEC/app/a.inv.xml</td>\n",
       "      <td>This is a , interesting File...</td>\n",
       "    </tr>\n",
       "    <tr>\n",
       "      <th>6</th>\n",
       "      <td>7</td>\n",
       "      <td>2018-09-30</td>\n",
       "      <td></td>\n",
       "      <td>s1.inv.xml</td>\n",
       "      <td>/NEC/app/a.inv.xml</td>\n",
       "      <td>This is a , interesting File...</td>\n",
       "    </tr>\n",
       "  </tbody>\n",
       "</table>\n",
       "</div>"
      ],
      "text/plain": [
       "   id   create_dt user        name           file_name  \\\n",
       "0   1  2018-09-30       s1.inv.xml  /NEC/app/a.inv.xml   \n",
       "1   2  2018-09-30       s1.inv.xml  /NEC/app/a.inv.xml   \n",
       "2   3  2018-09-30       s1.inv.xml  /NEC/app/a.inv.xml   \n",
       "3   4  2018-09-30       s1.inv.xml  /NEC/app/a.inv.xml   \n",
       "4   5  2018-09-30       s1.inv.xml  /NEC/app/a.inv.xml   \n",
       "5   6  2018-09-30       s1.inv.xml  /NEC/app/a.inv.xml   \n",
       "6   7  2018-09-30       s1.inv.xml  /NEC/app/a.inv.xml   \n",
       "\n",
       "                        description  \n",
       "0  This is a , interesting File...   \n",
       "1  This is a , interesting File...   \n",
       "2  This is a , interesting File...   \n",
       "3  This is a , interesting File...   \n",
       "4  This is a , interesting File...   \n",
       "5  This is a , interesting File...   \n",
       "6  This is a , interesting File...   "
      ]
     },
     "execution_count": 27,
     "metadata": {},
     "output_type": "execute_result"
    }
   ],
   "source": [
    "df[df.user==' ']"
   ]
  },
  {
   "cell_type": "code",
   "execution_count": 28,
   "metadata": {},
   "outputs": [],
   "source": [
    "ret= {'cols': [c for c in df.columns], 'rows':df.values} "
   ]
  },
  {
   "cell_type": "code",
   "execution_count": 29,
   "metadata": {},
   "outputs": [
    {
     "data": {
      "text/plain": [
       "{'cols': Index(['id', 'create_dt', 'user', 'name', 'file_name', 'description'], dtype='object'),\n",
       " 'rows': array([[1, '2018-09-30', ' ', 's1.inv.xml', '/NEC/app/a.inv.xml',\n",
       "         'This is a , interesting File... '],\n",
       "        [2, '2018-09-30', ' ', 's1.inv.xml', '/NEC/app/a.inv.xml',\n",
       "         'This is a , interesting File... '],\n",
       "        [3, '2018-09-30', ' ', 's1.inv.xml', '/NEC/app/a.inv.xml',\n",
       "         'This is a , interesting File... '],\n",
       "        [4, '2018-09-30', ' ', 's1.inv.xml', '/NEC/app/a.inv.xml',\n",
       "         'This is a , interesting File... '],\n",
       "        [5, '2018-09-30', ' ', 's1.inv.xml', '/NEC/app/a.inv.xml',\n",
       "         'This is a , interesting File... '],\n",
       "        [6, '2018-09-30', ' ', 's1.inv.xml', '/NEC/app/a.inv.xml',\n",
       "         'This is a , interesting File... '],\n",
       "        [7, '2018-09-30', ' ', 's1.inv.xml', '/NEC/app/a.inv.xml',\n",
       "         'This is a , interesting File... ']], dtype=object)}"
      ]
     },
     "execution_count": 29,
     "metadata": {},
     "output_type": "execute_result"
    }
   ],
   "source": [
    "ret"
   ]
  }
 ],
 "metadata": {
  "kernelspec": {
   "display_name": "Python 3",
   "language": "python",
   "name": "python3"
  },
  "language_info": {
   "codemirror_mode": {
    "name": "ipython",
    "version": 3
   },
   "file_extension": ".py",
   "mimetype": "text/x-python",
   "name": "python",
   "nbconvert_exporter": "python",
   "pygments_lexer": "ipython3",
   "version": "3.6.5"
  }
 },
 "nbformat": 4,
 "nbformat_minor": 2
}
