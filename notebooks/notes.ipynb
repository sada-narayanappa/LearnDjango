{
 "cells": [
  {
   "cell_type": "markdown",
   "metadata": {},
   "source": [
    "## Python Notes:\n",
    "\n",
    "\n",
    "### Create a Basic Project \n",
    "\n",
    "[1]  python -m django --version\n",
    "#=>>>>>>see the output\n",
    "\n",
    "[2] pip install django # best if you create virtual environment - I dont do that\n",
    "#See: https://docs.djangoproject.com/en/2.1/intro/tutorial01/ for more details\n",
    "\n",
    "[3] django-admin startproject dproject # To start the project\n",
    "you will see the following dierctory structure:\n",
    "\n",
    "```        LearnDjango/\n",
    "            manage.py\n",
    "            dproject/\n",
    "                __init__.py\n",
    "                settings.py\n",
    "                urls.py\n",
    "                wsgi.py\n",
    "```\n",
    "\n",
    "[4] python manage.py runserver 0.0.0.0:8000  # to run the server on 8000\n",
    "\n",
    "### Create a Application\n",
    "\n",
    "An application can live anywhere independent of peoject. Project brings apps together.\n",
    "\n",
    "[5]  python manage.py startapp polls\n",
    "\n",
    "```\n",
    "|-- db.sqlite3\n",
    "|-- ds\n",
    "|   |-- __init__.py\n",
    "|   |-- settings.py\n",
    "|   |-- urls.py\n",
    "|   `-- wsgi.py\n",
    "|-- manage.py\n",
    "|-- polls\n",
    "|   |-- __init__.py\n",
    "|   |-- admin.py\n",
    "|   |-- apps.py\n",
    "|   |-- migrations\n",
    "|   |   `-- __init__.py\n",
    "|   |-- models.py\n",
    "|   |-- tests.py\n",
    "|   `-- views.py\n",
    "`-- run.py\n",
    "```\n",
    "\n",
    "[ 6 ] edit mysite/settings.py\n",
    "add polls to installed apps\n",
    "\n",
    "```\n",
    "INSTALLED_APPS = (\n",
    "    'django.contrib.admin',\n",
    "    'django.contrib.auth',\n",
    "    'django.contrib.contenttypes',\n",
    "    'django.contrib.sessions',\n",
    "    'django.contrib.messages',\n",
    "    'django.contrib.staticfiles',\n",
    "    'polls',\n",
    ")\n",
    "```\n",
    "### EDit the following to removing annoying pass checks\n",
    "\n",
    "```\n",
    "AUTH_PASSWORD_VALIDATORS = [\n",
    "#    {\n",
    "#        'NAME': 'django.contrib.auth.password_validation.UserAttributeSimilarityValidator',\n",
    "#    },\n",
    "    {\n",
    "        'NAME': 'django.contrib.auth.password_validation.MinimumLengthValidator',\n",
    "        'OPTIONS': { 'min_length' : 4 },\n",
    "    },\n",
    "#    {\n",
    "#        'NAME': 'django.contrib.auth.password_validation.CommonPasswordValidator',\n",
    "#    },\n",
    "#    {\n",
    "#        'NAME': 'django.contrib.auth.password_validation.NumericPasswordValidator',\n",
    "#    },\n",
    "]\n",
    "```\n",
    "\n",
    "[-7-] python manage.py makemigrations polls\n",
    "\n",
    "[ ] python manage.py createsuperuser\n",
    "\n",
    "#Run\n",
    "[ ] python manage.py migrate\n",
    "to migrate settings"
   ]
  },
  {
   "cell_type": "code",
   "execution_count": null,
   "metadata": {},
   "outputs": [],
   "source": [
    "# Django uses SQLlite database - here is an exmaple on how to use it.\n",
    "import sqlite3\n",
    "conn = sqlite3.connect('example.db')\n",
    "c = conn.cursor()\n",
    "\n",
    "# Create table\n",
    "c.execute('''CREATE TABLE stocks\n",
    "             (date text, trans text, symbol text, qty real, price real)''')\n",
    "\n",
    "# Insert a row of data\n",
    "c.execute(\"INSERT INTO stocks VALUES ('2006-01-05','BUY','RHAT',100,35.14)\")\n",
    "\n",
    "# Save (commit) the changes\n",
    "conn.commit()\n",
    "\n",
    "# We can also close the connection if we are done with it.\n",
    "# Just be sure any changes have been committed or they will be lost.\n",
    "conn.close()\n",
    "\n",
    "conn = sqlite3.connect('example.db')\n",
    "c = conn.cursor()\n",
    "symbol = 'RHAT'\n",
    "c.execute(\"SELECT * FROM stocks WHERE symbol = '{symbol}'\")\n",
    "\n",
    "# Do this instead\n",
    "t = ('RHAT',)\n",
    "c.execute('SELECT * FROM stocks WHERE symbol=?', t)\n",
    "print(c.fetchone())\n",
    "\n",
    "# Larger example that inserts many records at a time\n",
    "purchases = [('2006-03-28', 'BUY', 'IBM', 1000, 45.00),\n",
    "             ('2006-04-05', 'BUY', 'MSFT', 1000, 72.00),\n",
    "             ('2006-04-06', 'SELL', 'IBM', 500, 53.00),\n",
    "            ]\n",
    "c.executemany('INSERT INTO stocks VALUES (?,?,?,?,?)', purchases)\n",
    "conn.close()\n"
   ]
  },
  {
   "cell_type": "code",
   "execution_count": null,
   "metadata": {},
   "outputs": [],
   "source": [
    "import os;\n",
    "os.path.basename(\"/sada/fddf/sada.jkl\")\n",
    "\n",
    "t=\"/sada/fddf/sada.jkl\"\n",
    "t.find (\"/fddf/\")"
   ]
  },
  {
   "cell_type": "markdown",
   "metadata": {},
   "source": [
    "### Some Utitlities"
   ]
  },
  {
   "cell_type": "code",
   "execution_count": 12,
   "metadata": {},
   "outputs": [
    {
     "data": {
      "text/plain": [
       "<Response [404]>"
      ]
     },
     "execution_count": 12,
     "metadata": {},
     "output_type": "execute_result"
    }
   ],
   "source": [
    "url=f\"{whost}/WebSearchAPI?q={q}&count={count}&autocorrect={autoCorrect}\"\n",
    "response=requests.get( url,\n",
    "headers={\n",
    "\"X-Mashape-Key\": Your_X_Mashape_Key,\n",
    "\"Accept\": \"application/json\"\n",
    "}, proxies=proxies\n",
    ")\n",
    "response"
   ]
  },
  {
   "cell_type": "code",
   "execution_count": 38,
   "metadata": {},
   "outputs": [
    {
     "data": {
      "text/plain": [
       "'[{\"value\": \"<b>NASA</b> Images | <b>NASA</b>\", \"data\": \"http://www.nasa.gov/multimedia/imagegallery/\"}, {\"value\": \"<b>Nasa</b> : NASA\", \"data\": \"http://nasa.gov.websiteoutlook.com\"}, {\"value\": \"<b>NASA</b> TELEVISION\", \"data\": \"http://nasa.tv\"}, {\"value\": \"<b>NASA</b> Administrator Meets Agency\\'s Innovators in Silicon Valley\", \"data\": \"http://www.nasa.gov/feature/ames/nasa-administrator-meets-agencys-innovators-in-silicon-valley\"}, {\"value\": \"Videos \\\\u2013 <b>NASA</b>\\'s 60th Anniversary Edition\", \"data\": \"http://nasa.washingtonexaminer.com/videos/\"}, {\"value\": \"<b>NASA</b> - Wikipedia\", \"data\": \"https://en.wikipedia.org/wiki/NASA\"}, {\"value\": \"<b>Nasa</b> News Blog\", \"data\": \"http://nasa-newsblog.blogspot.com/feeds/9213663916407586118/comments/default\"}, {\"value\": \"<b>NASA</b> Wavelength Digital Library\", \"data\": \"http://nasawavelength.org\"}, {\"value\": \"<b>NASA</b> - YouTube\", \"data\": \"http://youtube.com/user/NASAtelevision\"}, {\"value\": \"<b>NASA</b> | Observer\", \"data\": \"https://observer.com/tag/nasa/\"}]'"
      ]
     },
     "execution_count": 38,
     "metadata": {},
     "output_type": "execute_result"
    }
   ],
   "source": [
    "t='''\n",
    "[\n",
    "    {\n",
    "        \"value\": \"<b>NASA</b> Images | <b>NASA</b>\",\n",
    "        \"data\": \"http://www.nasa.gov/multimedia/imagegallery/\"\n",
    "    },\n",
    "    {\n",
    "        \"value\": \"<b>Nasa</b> : NASA\",\n",
    "        \"data\": \"http://nasa.gov.websiteoutlook.com\"\n",
    "    },\n",
    "    {\n",
    "        \"value\": \"<b>NASA</b> TELEVISION\",\n",
    "        \"data\": \"http://nasa.tv\"\n",
    "    },\n",
    "    {\n",
    "        \"value\": \"<b>NASA</b> Administrator Meets Agency's Innovators in Silicon Valley\",\n",
    "        \"data\": \"http://www.nasa.gov/feature/ames/nasa-administrator-meets-agencys-innovators-in-silicon-valley\"\n",
    "    },\n",
    "    {\n",
    "        \"value\": \"Videos \\u2013 <b>NASA</b>'s 60th Anniversary Edition\",\n",
    "        \"data\": \"http://nasa.washingtonexaminer.com/videos/\"\n",
    "    },\n",
    "    {\n",
    "        \"value\": \"<b>NASA</b> - Wikipedia\",\n",
    "        \"data\": \"https://en.wikipedia.org/wiki/NASA\"\n",
    "    },\n",
    "    {\n",
    "        \"value\": \"<b>Nasa</b> News Blog\",\n",
    "        \"data\": \"http://nasa-newsblog.blogspot.com/feeds/9213663916407586118/comments/default\"\n",
    "    },\n",
    "    {\n",
    "        \"value\": \"<b>NASA</b> Wavelength Digital Library\",\n",
    "        \"data\": \"http://nasawavelength.org\"\n",
    "    },\n",
    "    {\n",
    "        \"value\": \"<b>NASA</b> - YouTube\",\n",
    "        \"data\": \"http://youtube.com/user/NASAtelevision\"\n",
    "    },\n",
    "    {\n",
    "        \"value\": \"<b>NASA</b> | Observer\",\n",
    "        \"data\": \"https://observer.com/tag/nasa/\"\n",
    "    }\n",
    "]\n",
    "  \n",
    "'''\n",
    "json.dumps(json.loads(t))"
   ]
  },
  {
   "cell_type": "code",
   "execution_count": 41,
   "metadata": {},
   "outputs": [
    {
     "data": {
      "text/html": [
       "var j='[{\"value\": \"<b>NASA</b> Images | <b>NASA</b>\", \"data\": \"http://www.nasa.gov/multimedia/imagegallery/\"}, {\"value\": \"<b>Nasa</b> : NASA\", \"data\": \"http://nasa.gov.websiteoutlook.com\"}, {\"value\": \"<b>NASA</b> TELEVISION\", \"data\": \"http://nasa.tv\"}, {\"value\": \"<b>NASA</b> Administrator Meets Agency\\'s Innovators in Silicon Valley\", \"data\": \"http://www.nasa.gov/feature/ames/nasa-administrator-meets-agencys-innovators-in-silicon-valley\"}, {\"value\": \"Videos \\\\u2013 <b>NASA</b>\\'s 60th Anniversary Edition\", \"data\": \"http://nasa.washingtonexaminer.com/videos/\"}, {\"value\": \"<b>NASA</b> - Wikipedia\", \"data\": \"https://en.wikipedia.org/wiki/NASA\"}, {\"value\": \"<b>Nasa</b> News Blog\", \"data\": \"http://nasa-newsblog.blogspot.com/feeds/9213663916407586118/comments/default\"}, {\"value\": \"<b>NASA</b> Wavelength Digital Library\", \"data\": \"http://nasawavelength.org\"}, {\"value\": \"<b>NASA</b> - YouTube\", \"data\": \"http://youtube.com/user/NASAtelevision\"}, {\"value\": \"<b>NASA</b> | Observer\", \"data\": \"https://observer.com/tag/nasa/\"}]'\n",
       "\n",
       "<script>\n",
       "nj=JSON.parse(j)\n",
       "console.log(nj)\n",
       "</script>"
      ],
      "text/plain": [
       "<IPython.core.display.HTML object>"
      ]
     },
     "metadata": {},
     "output_type": "display_data"
    }
   ],
   "source": [
    "%%html\n",
    "var j='[{\"value\": \"<b>NASA</b> Images | <b>NASA</b>\", \"data\": \"http://www.nasa.gov/multimedia/imagegallery/\"}, {\"value\": \"<b>Nasa</b> : NASA\", \"data\": \"http://nasa.gov.websiteoutlook.com\"}, {\"value\": \"<b>NASA</b> TELEVISION\", \"data\": \"http://nasa.tv\"}, {\"value\": \"<b>NASA</b> Administrator Meets Agency\\'s Innovators in Silicon Valley\", \"data\": \"http://www.nasa.gov/feature/ames/nasa-administrator-meets-agencys-innovators-in-silicon-valley\"}, {\"value\": \"Videos \\\\u2013 <b>NASA</b>\\'s 60th Anniversary Edition\", \"data\": \"http://nasa.washingtonexaminer.com/videos/\"}, {\"value\": \"<b>NASA</b> - Wikipedia\", \"data\": \"https://en.wikipedia.org/wiki/NASA\"}, {\"value\": \"<b>Nasa</b> News Blog\", \"data\": \"http://nasa-newsblog.blogspot.com/feeds/9213663916407586118/comments/default\"}, {\"value\": \"<b>NASA</b> Wavelength Digital Library\", \"data\": \"http://nasawavelength.org\"}, {\"value\": \"<b>NASA</b> - YouTube\", \"data\": \"http://youtube.com/user/NASAtelevision\"}, {\"value\": \"<b>NASA</b> | Observer\", \"data\": \"https://observer.com/tag/nasa/\"}]'\n",
    "\n",
    "<script>\n",
    "nj=JSON.parse(j)\n",
    "console.log(nj)\n",
    "</script>"
   ]
  },
  {
   "cell_type": "code",
   "execution_count": 32,
   "metadata": {
    "scrolled": false
   },
   "outputs": [
    {
     "name": "stderr",
     "output_type": "stream",
     "text": [
      "/Users/e346104/anaconda/lib/python3.6/site-packages/urllib3/connectionpool.py:857: InsecureRequestWarning: Unverified HTTPS request is being made. Adding certificate verification is strongly advised. See: https://urllib3.readthedocs.io/en/latest/advanced-usage.html#ssl-warnings\n",
      "  InsecureRequestWarning)\n"
     ]
    },
    {
     "name": "stdout",
     "output_type": "stream",
     "text": [
      "{'value': '<b>NASA</b> Images | <b>NASA</b>', 'data': 'http://www.nasa.gov/multimedia/imagegallery/'}\n",
      "{'value': '<b>Nasa</b> : NASA', 'data': 'http://nasa.gov.websiteoutlook.com'}\n",
      "{'value': '<b>NASA</b> TELEVISION', 'data': 'http://nasa.tv'}\n",
      "{'value': \"<b>NASA</b> Administrator Meets Agency's Innovators in Silicon Valley\", 'data': 'http://www.nasa.gov/feature/ames/nasa-administrator-meets-agencys-innovators-in-silicon-valley'}\n",
      "{'value': \"Videos – <b>NASA</b>'s 60th Anniversary Edition\", 'data': 'http://nasa.washingtonexaminer.com/videos/'}\n",
      "{'value': '<b>NASA</b> - Wikipedia', 'data': 'https://en.wikipedia.org/wiki/NASA'}\n",
      "{'value': '<b>Nasa</b> News Blog', 'data': 'http://nasa-newsblog.blogspot.com/feeds/9213663916407586118/comments/default'}\n",
      "{'value': '<b>NASA</b> Wavelength Digital Library', 'data': 'http://nasawavelength.org'}\n",
      "{'value': '<b>NASA</b> - YouTube', 'data': 'http://youtube.com/user/NASAtelevision'}\n",
      "{'value': '<b>NASA</b> | Observer', 'data': 'https://observer.com/tag/nasa/'}\n"
     ]
    }
   ],
   "source": [
    "import requests #install from: http://docs.python-requests.org/en/master/\n",
    "\n",
    "def searchNewsMashape(q, proxies={ \"http\": None, \"https\": None }):\n",
    "    q = \"Donald%20Trump\" if not q else q#the search query\n",
    "    Your_X_Mashape_Key = \"i7NAd0phvimsh5TbLJN02Xy7fCUBp1nsADljsnIQQ94H6oYsGq\";\n",
    "\n",
    "    #The query parameters: (update according to your search query)\n",
    "    count = 10 #the number of items to return\n",
    "    autoCorrect = True #autoCorrectspelling\n",
    "\n",
    "    whost='https://contextualwebsearch-websearch-v1.p.mashape.com/api/Search'\n",
    "    response=requests.get(f\"{whost}/WebSearchAPI?q={q}&count={count}&autocorrect={autoCorrect}\",\n",
    "    headers={\n",
    "    \"X-Mashape-Key\": Your_X_Mashape_Key,\n",
    "    \"Accept\": \"application/json\"\n",
    "    }, proxies=proxies, verify=False\n",
    "    ).json()\n",
    "\n",
    "    #Get the numer of items returned\n",
    "    totalCount = response[\"totalCount\"];\n",
    "\n",
    "    #Get the list of most frequent searches related to the input search query\n",
    "    relatedSearch = response[\"relatedSearch\"]\n",
    "\n",
    "    ret = []\n",
    "    #Go over each resulting item\n",
    "    for webPage in response[\"value\"]:\n",
    "        url = webPage[\"url\"]\n",
    "        title = webPage[\"title\"].encode('utf-8').strip()\n",
    "        description = webPage[\"description\"]\n",
    "        keywords = webPage[\"keywords\"]\n",
    "        provider = webPage[\"provider\"][\"name\"]\n",
    "        datePublished = webPage[\"datePublished\"]\n",
    "\n",
    "        #Get the web page image (if exists)\n",
    "        imageUrl = webPage[\"image\"][\"url\"]\n",
    "        imageHeight = webPage[\"image\"][\"height\"]\n",
    "        imageWidth = webPage[\"image\"][\"width\"]\n",
    "\n",
    "        thumbnail = webPage[\"image\"][\"thumbnail\"]\n",
    "        thumbnailHeight = webPage[\"image\"][\"thumbnailHeight\"]\n",
    "        #thumbnailWidth == webPage[\"image\"][\"thumbnailWidth\"]\n",
    "\n",
    "        #An example: Output the webpage url, title and published date:\n",
    "        #print(f\"Url: {url}. Title: {title}. Published Date:{datePublished}.\")\n",
    "        val = {'value': title.decode('utf-8'), 'data': url}\n",
    "        print(val)\n",
    "        ret.append(val)\n",
    "        \n",
    "    return ret;\n",
    "\n",
    "proxies={ \"http\": None, \"https\": None }\n",
    "sl = searchNewsMashape(\"NASA\", proxies)"
   ]
  },
  {
   "cell_type": "code",
   "execution_count": 35,
   "metadata": {},
   "outputs": [
    {
     "name": "stdout",
     "output_type": "stream",
     "text": [
      "[\n",
      "    {\n",
      "        \"value\": \"<b>NASA</b> Images | <b>NASA</b>\",\n",
      "        \"data\": \"http://www.nasa.gov/multimedia/imagegallery/\"\n",
      "    },\n",
      "    {\n",
      "        \"value\": \"<b>Nasa</b> : NASA\",\n",
      "        \"data\": \"http://nasa.gov.websiteoutlook.com\"\n",
      "    },\n",
      "    {\n",
      "        \"value\": \"<b>NASA</b> TELEVISION\",\n",
      "        \"data\": \"http://nasa.tv\"\n",
      "    },\n",
      "    {\n",
      "        \"value\": \"<b>NASA</b> Administrator Meets Agency's Innovators in Silicon Valley\",\n",
      "        \"data\": \"http://www.nasa.gov/feature/ames/nasa-administrator-meets-agencys-innovators-in-silicon-valley\"\n",
      "    },\n",
      "    {\n",
      "        \"value\": \"Videos \\u2013 <b>NASA</b>'s 60th Anniversary Edition\",\n",
      "        \"data\": \"http://nasa.washingtonexaminer.com/videos/\"\n",
      "    },\n",
      "    {\n",
      "        \"value\": \"<b>NASA</b> - Wikipedia\",\n",
      "        \"data\": \"https://en.wikipedia.org/wiki/NASA\"\n",
      "    },\n",
      "    {\n",
      "        \"value\": \"<b>Nasa</b> News Blog\",\n",
      "        \"data\": \"http://nasa-newsblog.blogspot.com/feeds/9213663916407586118/comments/default\"\n",
      "    },\n",
      "    {\n",
      "        \"value\": \"<b>NASA</b> Wavelength Digital Library\",\n",
      "        \"data\": \"http://nasawavelength.org\"\n",
      "    },\n",
      "    {\n",
      "        \"value\": \"<b>NASA</b> - YouTube\",\n",
      "        \"data\": \"http://youtube.com/user/NASAtelevision\"\n",
      "    },\n",
      "    {\n",
      "        \"value\": \"<b>NASA</b> | Observer\",\n",
      "        \"data\": \"https://observer.com/tag/nasa/\"\n",
      "    }\n",
      "]\n"
     ]
    }
   ],
   "source": [
    "print(json.dumps(sl, indent=4))"
   ]
  },
  {
   "cell_type": "code",
   "execution_count": 26,
   "metadata": {},
   "outputs": [
    {
     "data": {
      "text/plain": [
       "b'<b>NASA</b> Images | <b>NASA</b>'"
      ]
     },
     "execution_count": 26,
     "metadata": {},
     "output_type": "execute_result"
    }
   ],
   "source": [
    "json.pre"
   ]
  },
  {
   "cell_type": "code",
   "execution_count": 30,
   "metadata": {},
   "outputs": [
    {
     "data": {
      "text/plain": [
       "'<b>NASA</b> Images | <b>NASA</b>'"
      ]
     },
     "execution_count": 30,
     "metadata": {},
     "output_type": "execute_result"
    }
   ],
   "source": [
    "from base64 import b64encode\n",
    "sl[0]['value'].decode(\"utf-8\") "
   ]
  }
 ],
 "metadata": {
  "anaconda-cloud": {},
  "kernelspec": {
   "display_name": "Python 3",
   "language": "python",
   "name": "python3"
  },
  "language_info": {
   "codemirror_mode": {
    "name": "ipython",
    "version": 3
   },
   "file_extension": ".py",
   "mimetype": "text/x-python",
   "name": "python",
   "nbconvert_exporter": "python",
   "pygments_lexer": "ipython3",
   "version": "3.6.5"
  }
 },
 "nbformat": 4,
 "nbformat_minor": 2
}
