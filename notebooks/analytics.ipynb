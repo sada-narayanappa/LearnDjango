{
 "cells": [
  {
   "cell_type": "code",
   "execution_count": null,
   "metadata": {},
   "outputs": [],
   "source": [
    "import logging, warnings, sys\n",
    "for handler in logging.root.handlers[:]:\n",
    "    logging.root.removeHandler(handler)\n",
    "    \n",
    "logging.basicConfig( level=logging.INFO,\n",
    "        format='%(levelname)s:%(name)s %(asctime)s %(filename)s:%(lineno)s:%(funcName)s: %(message)s',\n",
    "        #format='%(asctime)s %(name)s %(levelname)s: %(message)s',\n",
    "        #handlers=[ logging.FileHandler(\"/tmp/app.log\"), logging.StreamHandler(sys.stderr)],\n",
    "        handlers=[ ],\n",
    ")\n",
    "logger = logging.getLogger( \"app\" )"
   ]
  },
  {
   "cell_type": "markdown",
   "metadata": {},
   "source": [
    "# collect"
   ]
  },
  {
   "cell_type": "code",
   "execution_count": 113,
   "metadata": {},
   "outputs": [
    {
     "name": "stdout",
     "output_type": "stream",
     "text": [
      "Overwriting ../geoapp/analytics.py\n"
     ]
    }
   ],
   "source": [
    "%%writefile  ../geoapp/analytics.py\n",
    "#!/usr/bin/env python\n",
    "'''\n",
    "    GENERATED FROM geoapp/notebooks/analytics.ipynb\n",
    "'''\n",
    "##---------------------------------------------------------------------\n",
    "import os, logging, sys, datetime\n",
    "from  mangorest.mango import webapi\n",
    "import colabexts.utils as colabexts_utils\n",
    "import pandas as pd\n",
    "\n",
    "loga  = logging.getLogger( \"app.analytics\")\n",
    "\n",
    "file  = \"/opt/data/tseries/data/_ANALYTICS/analytics.log\"\n",
    "if  not os.path.exists(os.path.dirname(file)) :\n",
    "    os.makedirs(os.path.dirname(file))\n",
    "    \n",
    "fmt   = logging.Formatter(fmt='%(message)s,%(asctime)-12s', datefmt='%Y-%m-%dT%H:%M:%S' )\n",
    "fileh = logging.FileHandler(file)\n",
    "fileh.setFormatter(fmt)\n",
    "loga.addHandler(fileh)\n",
    "loga.propagate = False\n",
    "\n",
    "__ADD_STREAM__ = 0\n",
    "if __ADD_STREAM__:\n",
    "    sh = logging.StreamHandler()\n",
    "    sh.setFormatter(fmt) \n",
    "    loga.addHandler(sh)\n",
    "\n",
    "loga.info(f\"#user,uri,method,REMOTE_ADDR,time\")\n",
    "\n",
    "def loganalytics(r):\n",
    "    try:\n",
    "        uri,reqm,remt = r.build_absolute_uri(), r.META.get('REQUEST_METHOD',''), \\\n",
    "                        r.META.get('REMOTE_ADDR','')\n",
    "    except:\n",
    "        uri,reqm,remt =  \"URI\", \"method\", \"remote-ip\"\n",
    "        pass\n",
    "\n",
    "    out = f\"{r.user},{uri},{reqm},{remt}\"\n",
    "    loga.error(f\"{out}\")\n",
    "\n",
    "\n",
    "#------------------------------------------------------------------------------\n",
    "@webapi(\"/geotics/accesscount\")\n",
    "def userscount( request=None, **kwargs):\n",
    "    cols =[c.strip() for c in \"#user,uri,method,REMOTE_ADDR,time\"[1:].split(\",\")]\n",
    "    df = pd.read_csv(file, comment='#', header=None)\n",
    "    df.columns=cols\n",
    "    df.time=pd.to_datetime(df.time)\n",
    "\n",
    "    df1w = df[df.time >= datetime.datetime.now() - datetime.timedelta(weeks=2)].copy()\n",
    "    df1w['date'] = [c.split()[0] for c in df1w.time.astype(str)]\n",
    "    dfp = df1w.pivot_table(index=\"date\",values=\"REMOTE_ADDR\", aggfunc=\"count\")\n",
    "\n",
    "    ret = {\n",
    "        \"name\" : \"accesscount\",\n",
    "        'index': [c for c in dfp.index],\n",
    "        'columns': [c for c in dfp.columns],\n",
    "        'values' : dfp.values.tolist()        \n",
    "    }\n",
    "    return ret\n",
    "\n",
    "#------------------------------------------------------------------------------\n",
    "@webapi(\"/geotics/uaccesscount\")\n",
    "def uuserscount( request=None, **kwargs):\n",
    "    cols =[c.strip() for c in \"#user,uri,method,REMOTE_ADDR,time\"[1:].split(\",\")]\n",
    "    df = pd.read_csv(file, comment='#', header=None)\n",
    "    df.columns=cols\n",
    "    df.time=pd.to_datetime(df.time)\n",
    "\n",
    "    df1w = df[df.time >= datetime.datetime.now() - datetime.timedelta(weeks=2)].copy()\n",
    "    df1w['date'] = [c.split()[0] for c in df1w.time.astype(str)]\n",
    "    dfp = df1w.pivot_table(index=\"date\",values=\"REMOTE_ADDR\", aggfunc=lambda x: len(x.unique()))\n",
    "\n",
    "    ret = {\n",
    "        \"name\" : \"accesscount\",\n",
    "        'index': [c for c in dfp.index],\n",
    "        'columns': [c for c in dfp.columns],\n",
    "        'values' : dfp.values.tolist()        \n",
    "    }\n",
    "    return ret\n",
    "\n",
    "\n",
    "if __name__ == '__main__' or colabexts_utils.inJupyter():\n",
    "    pass"
   ]
  },
  {
   "cell_type": "markdown",
   "metadata": {},
   "source": []
  },
  {
   "cell_type": "markdown",
   "metadata": {},
   "source": [
    "# Analyze"
   ]
  },
  {
   "cell_type": "code",
   "execution_count": 111,
   "metadata": {},
   "outputs": [
    {
     "data": {
      "text/plain": [
       "{'name': 'accesscount',\n",
       " 'index': ['2024-07-03',\n",
       "  '2024-07-04',\n",
       "  '2024-07-05',\n",
       "  '2024-07-06',\n",
       "  '2024-07-07',\n",
       "  '2024-07-08',\n",
       "  '2024-07-09',\n",
       "  '2024-07-10',\n",
       "  '2024-07-14'],\n",
       " 'columns': ['REMOTE_ADDR'],\n",
       " 'values': [[210], [358], [355], [487], [84], [407], [97], [22], [34]]}"
      ]
     },
     "execution_count": 111,
     "metadata": {},
     "output_type": "execute_result"
    }
   ],
   "source": [
    "userscount()"
   ]
  },
  {
   "cell_type": "code",
   "execution_count": 112,
   "metadata": {},
   "outputs": [
    {
     "data": {
      "text/plain": [
       "{'name': 'accesscount',\n",
       " 'index': ['2024-07-03',\n",
       "  '2024-07-04',\n",
       "  '2024-07-05',\n",
       "  '2024-07-06',\n",
       "  '2024-07-07',\n",
       "  '2024-07-08',\n",
       "  '2024-07-09',\n",
       "  '2024-07-10',\n",
       "  '2024-07-14'],\n",
       " 'columns': ['REMOTE_ADDR'],\n",
       " 'values': [[1], [1], [1], [1], [1], [1], [1], [1], [1]]}"
      ]
     },
     "execution_count": 112,
     "metadata": {},
     "output_type": "execute_result"
    }
   ],
   "source": [
    "uuserscount()"
   ]
  },
  {
   "cell_type": "code",
   "execution_count": 103,
   "metadata": {},
   "outputs": [
    {
     "data": {
      "text/html": [
       "<div>\n",
       "<style scoped>\n",
       "    .dataframe tbody tr th:only-of-type {\n",
       "        vertical-align: middle;\n",
       "    }\n",
       "\n",
       "    .dataframe tbody tr th {\n",
       "        vertical-align: top;\n",
       "    }\n",
       "\n",
       "    .dataframe thead th {\n",
       "        text-align: right;\n",
       "    }\n",
       "</style>\n",
       "<table border=\"1\" class=\"dataframe\">\n",
       "  <thead>\n",
       "    <tr style=\"text-align: right;\">\n",
       "      <th></th>\n",
       "      <th>user</th>\n",
       "      <th>uri</th>\n",
       "      <th>method</th>\n",
       "      <th>REMOTE_ADDR</th>\n",
       "      <th>time</th>\n",
       "    </tr>\n",
       "  </thead>\n",
       "  <tbody>\n",
       "    <tr>\n",
       "      <th>0</th>\n",
       "      <td>sada</td>\n",
       "      <td>http://localhost:7004/dash/dash/index.html/</td>\n",
       "      <td>GET</td>\n",
       "      <td>127.0.0.1</td>\n",
       "      <td>2024-07-03 03:56:51</td>\n",
       "    </tr>\n",
       "    <tr>\n",
       "      <th>1</th>\n",
       "      <td>sada</td>\n",
       "      <td>http://localhost:7004/dash/dash/index.html/</td>\n",
       "      <td>GET</td>\n",
       "      <td>127.0.0.1</td>\n",
       "      <td>2024-07-03 04:36:44</td>\n",
       "    </tr>\n",
       "    <tr>\n",
       "      <th>2</th>\n",
       "      <td>sada</td>\n",
       "      <td>http://localhost:7004/dash/dash/index.html/</td>\n",
       "      <td>GET</td>\n",
       "      <td>127.0.0.1</td>\n",
       "      <td>2024-07-03 04:41:12</td>\n",
       "    </tr>\n",
       "    <tr>\n",
       "      <th>3</th>\n",
       "      <td>sada</td>\n",
       "      <td>http://localhost:7004/dash/dash/index.html/</td>\n",
       "      <td>GET</td>\n",
       "      <td>127.0.0.1</td>\n",
       "      <td>2024-07-03 04:44:32</td>\n",
       "    </tr>\n",
       "    <tr>\n",
       "      <th>4</th>\n",
       "      <td>sada</td>\n",
       "      <td>http://localhost:7004/dash/dash/index.html/</td>\n",
       "      <td>GET</td>\n",
       "      <td>127.0.0.1</td>\n",
       "      <td>2024-07-03 04:45:33</td>\n",
       "    </tr>\n",
       "    <tr>\n",
       "      <th>...</th>\n",
       "      <td>...</td>\n",
       "      <td>...</td>\n",
       "      <td>...</td>\n",
       "      <td>...</td>\n",
       "      <td>...</td>\n",
       "    </tr>\n",
       "    <tr>\n",
       "      <th>2046</th>\n",
       "      <td>sada</td>\n",
       "      <td>http://localhost:7004/workflow/workflow/wflow....</td>\n",
       "      <td>GET</td>\n",
       "      <td>127.0.0.1</td>\n",
       "      <td>2024-07-14 19:09:17</td>\n",
       "    </tr>\n",
       "    <tr>\n",
       "      <th>2047</th>\n",
       "      <td>sada</td>\n",
       "      <td>http://localhost:7004/</td>\n",
       "      <td>GET</td>\n",
       "      <td>127.0.0.1</td>\n",
       "      <td>2024-07-14 19:09:33</td>\n",
       "    </tr>\n",
       "    <tr>\n",
       "      <th>2048</th>\n",
       "      <td>sada</td>\n",
       "      <td>http://localhost:7004/tseries/secured/CREATE_d...</td>\n",
       "      <td>GET</td>\n",
       "      <td>127.0.0.1</td>\n",
       "      <td>2024-07-14 19:09:55</td>\n",
       "    </tr>\n",
       "    <tr>\n",
       "      <th>2049</th>\n",
       "      <td>sada</td>\n",
       "      <td>http://localhost:7004/workflow/workflow/wflow....</td>\n",
       "      <td>GET</td>\n",
       "      <td>127.0.0.1</td>\n",
       "      <td>2024-07-14 19:09:57</td>\n",
       "    </tr>\n",
       "    <tr>\n",
       "      <th>2050</th>\n",
       "      <td>sada</td>\n",
       "      <td>http://localhost:7004/workflow/workflow/wflow....</td>\n",
       "      <td>GET</td>\n",
       "      <td>127.0.0.1</td>\n",
       "      <td>2024-07-14 20:15:49</td>\n",
       "    </tr>\n",
       "  </tbody>\n",
       "</table>\n",
       "<p>2051 rows × 5 columns</p>\n",
       "</div>"
      ],
      "text/plain": [
       "      user                                                uri method  \\\n",
       "0     sada        http://localhost:7004/dash/dash/index.html/    GET   \n",
       "1     sada        http://localhost:7004/dash/dash/index.html/    GET   \n",
       "2     sada        http://localhost:7004/dash/dash/index.html/    GET   \n",
       "3     sada        http://localhost:7004/dash/dash/index.html/    GET   \n",
       "4     sada        http://localhost:7004/dash/dash/index.html/    GET   \n",
       "...    ...                                                ...    ...   \n",
       "2046  sada  http://localhost:7004/workflow/workflow/wflow....    GET   \n",
       "2047  sada                             http://localhost:7004/    GET   \n",
       "2048  sada  http://localhost:7004/tseries/secured/CREATE_d...    GET   \n",
       "2049  sada  http://localhost:7004/workflow/workflow/wflow....    GET   \n",
       "2050  sada  http://localhost:7004/workflow/workflow/wflow....    GET   \n",
       "\n",
       "     REMOTE_ADDR                time  \n",
       "0      127.0.0.1 2024-07-03 03:56:51  \n",
       "1      127.0.0.1 2024-07-03 04:36:44  \n",
       "2      127.0.0.1 2024-07-03 04:41:12  \n",
       "3      127.0.0.1 2024-07-03 04:44:32  \n",
       "4      127.0.0.1 2024-07-03 04:45:33  \n",
       "...          ...                 ...  \n",
       "2046   127.0.0.1 2024-07-14 19:09:17  \n",
       "2047   127.0.0.1 2024-07-14 19:09:33  \n",
       "2048   127.0.0.1 2024-07-14 19:09:55  \n",
       "2049   127.0.0.1 2024-07-14 19:09:57  \n",
       "2050   127.0.0.1 2024-07-14 20:15:49  \n",
       "\n",
       "[2051 rows x 5 columns]"
      ]
     },
     "execution_count": 103,
     "metadata": {},
     "output_type": "execute_result"
    }
   ],
   "source": [
    "df"
   ]
  },
  {
   "cell_type": "code",
   "execution_count": null,
   "metadata": {},
   "outputs": [],
   "source": [
    "userscount()"
   ]
  },
  {
   "cell_type": "code",
   "execution_count": 3,
   "metadata": {},
   "outputs": [
    {
     "name": "stdout",
     "output_type": "stream",
     "text": [
      "/opt/LMCO/git/notebooks/no-git/geoapps/stream/notebooks\n"
     ]
    }
   ],
   "source": [
    "!pwd"
   ]
  },
  {
   "cell_type": "code",
   "execution_count": 8,
   "metadata": {},
   "outputs": [],
   "source": [
    "h = open(\"../tseries/templates/tseries/footer.html\", \"r\").read()"
   ]
  },
  {
   "cell_type": "code",
   "execution_count": 51,
   "metadata": {},
   "outputs": [
    {
     "name": "stdout",
     "output_type": "stream",
     "text": [
      "Updated \n",
      "\n",
      "    jdklfjsldjf\n",
      "     version:  456.79.791\n",
      "     \n",
      "\n",
      "456.79.791==>456.79.792\n",
      "\n",
      "\n",
      "    jdklfjsldjf\n",
      "     version:   456.79.792\n",
      "     \n",
      "\n"
     ]
    }
   ],
   "source": []
  }
 ],
 "metadata": {
  "kernelspec": {
   "display_name": "py311",
   "language": "python",
   "name": "python3"
  },
  "language_info": {
   "codemirror_mode": {
    "name": "ipython",
    "version": 3
   },
   "file_extension": ".py",
   "mimetype": "text/x-python",
   "name": "python",
   "nbconvert_exporter": "python",
   "pygments_lexer": "ipython3",
   "version": "3.11.9"
  }
 },
 "nbformat": 4,
 "nbformat_minor": 2
}
