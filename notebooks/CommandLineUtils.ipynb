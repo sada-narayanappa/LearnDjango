{
 "cells": [
  {
   "cell_type": "code",
   "execution_count": 1,
   "metadata": {},
   "outputs": [
    {
     "data": {
      "text/html": [
       "\n",
       "<textarea rows=5 id=nav_head_content style=\"width:100%;display:none;\">\n",
       "<style>\n",
       "a.bh,  a.bh:visited, a.bh:link, a.bh:active {\n",
       "  ttext-decoration: none; \n",
       "  color: black;\n",
       "  font-family: 'Roboto','Heebo',Arial,sans-serif;\n",
       "  font-size: 3em\n",
       "}\n",
       "</style>\n",
       "<!--\n",
       "<div id='HTMLTopBar' style=\"    \n",
       "    z-index: 50;\n",
       "    align-items: stretch;\n",
       "    width:100%\">\n",
       "    <div  style=\"\n",
       "        text-color: black;\n",
       "        background-color: #fefefe;\n",
       "        bborder-bottom: 1px dotted gray;\n",
       "        padding-left: 2px;\n",
       "        box-shadow: 5px 1px #ccc;\n",
       "        height: 40px; left: 0; \n",
       "        padding: 14px;\n",
       "        \"\n",
       "    >\n",
       "    <a class=bh1 href=\"#\" onclick=\"$('#maintoolbar').toggle();\">X</a>\n",
       "</div>\n",
       "-->\n",
       "</textarea>\n",
       "\n",
       "<script>\n",
       "if ($('#nav_head').length < 1) {\n",
       "    $('#notebook-container').prepend('<div id=\"nav_head\" style=\"width:100%;\">.</div>')\n",
       "    console.log(\"Added a div\")\n",
       "} else{\n",
       "    console.log(\"Already Added\")    \n",
       "}\n",
       "\n",
       "$('#nav_head').html($('#nav_head_content').val())\n",
       "\n",
       "$('.nbp-app-bar').toggle()\n",
       "</script>\n"
      ],
      "text/plain": [
       "<IPython.core.display.HTML object>"
      ]
     },
     "metadata": {},
     "output_type": "display_data"
    },
    {
     "data": {
      "text/html": [
       "<style>\n",
       "@import url('https://fonts.googleapis.com/css2?family=Roboto&display=swap');\n",
       "</style>\n",
       "<style>\n",
       "<link href=\"https://fonts.googleapis.com/css2?family=Roboto&display=swap\" rel=\"stylesheet\">\n",
       "\n",
       "body  p ol li {\n",
       "    font-family: \"Roboto\",  \"Lucida Grande\", \"Lucida Sans Unicode\";\n",
       "    font-size: 14px;\n",
       "    background: #fff\n",
       "}\n",
       "\n",
       "h1, h2, h3{\n",
       "    font-family: 'Roboto', sans-serif;\n",
       "}\n",
       "div#notebook_panel div#notebook{\n",
       "    background: #ffffff\n",
       "}\n",
       "div#notebook-container{\n",
       "    box-shadow: 0px;\n",
       "    padding: 0px;\n",
       "    border-left: .05em dotted gray;\n",
       "    -webkit-box-shadow: 0px;\n",
       "    box-shadow: none;\n",
       "}\n",
       "</style>\n"
      ],
      "text/plain": [
       "<IPython.core.display.HTML object>"
      ]
     },
     "metadata": {},
     "output_type": "display_data"
    },
    {
     "data": {
      "text/html": [
       "<style>\n",
       ".container { width: 100% !important; }\n",
       "    div.cell{\n",
       "        width:100%;\n",
       "        margin-left:0%;\n",
       "        margin-right:auto;\n",
       "}\n",
       ".CodeMirror {\n",
       "    font-family: monospace;\n",
       "}\n",
       "div.input_area {\n",
       "    border: 0px;\n",
       "}\n",
       "div.cell.selected{\n",
       "  border: '0px';\n",
       "}\n",
       ".cell.selected{\n",
       "  border: '0px';\n",
       "}\n",
       "div#notebook{\n",
       "    padding-top: 0px;\n",
       "}\n",
       "div.prompt_container {\n",
       "    display: block; \n",
       "    background: #f7f7f7;\n",
       "}\n",
       "div.prompt{\n",
       "    min-width:0px;\n",
       "    display: grid;\n",
       "}\n",
       "div.cell{\n",
       "    padding-bottom: 5px;\n",
       "    padding-left: 0px;\n",
       "}\n",
       "\n",
       "a.bh,  a.bh:visited, a.bh:link, a.bh:active {\n",
       "  text-decoration: none; \n",
       "  color:white;\n",
       "  font-family: 'Roboto','Heebo',Arial,sans-serif;\n",
       "  font-size:1em\n",
       "}\n",
       "a.bh:hover {\n",
       "  color: #ffccdd;\n",
       "}\n",
       "\n",
       "a.bh1,  a.bh1:visited, a.bh1:link, a.bh1:active {\n",
       "  text-decoration: none; \n",
       "  color: rgba(0, 0, 0, 0.87);\n",
       "  font-family: 'Roboto','Heebo',Arial,sans-serif;\n",
       "  padding-right: 30px;\n",
       "  font-size:1.1em\n",
       "}\n",
       "a.bh1:hover {\n",
       "  color: rgba(0, 0, 0, 0.57);\n",
       "}\n",
       "    \n",
       "#toc-wrapper {\n",
       "   font-family: 'Roboto','Heebo',Arial,sans-serif;\n",
       "    border: 0px dotted gray;\n",
       "    padding: 10px;\n",
       "    line-height: 1.8em;\n",
       "}    \n",
       "</style>\n",
       "<script>\n",
       "l=\"https://www.ancient-symbols.com/images/wp-image-library/fullsize/infinity.jpg\"\n",
       "l=\"imgs/logo.png\"\n",
       "l=\"\"\n",
       "$('#ipython_notebook').html(`<img src=\"${l}\">`)\n",
       "\n",
       "</script>\n"
      ],
      "text/plain": [
       "<IPython.core.display.HTML object>"
      ]
     },
     "metadata": {},
     "output_type": "display_data"
    }
   ],
   "source": [
    "%reload_ext autoreload\n",
    "%autoreload 2\n",
    "import colabexts\n",
    "from colabexts.jcommon import *\n",
    "\n",
    "jpath=os.path.dirname(colabexts.__file__)\n",
    "jcom = f'{jpath}/jcommon.ipynb'\n",
    "%run $jcom\n",
    "\n",
    "import os, sys, datetime, re, json, importlib\n",
    "from collections import defaultdict\n",
    "from sys import modules\n",
    "from IPython.display import HTML, Javascript\n",
    "import warnings\n",
    "import pandas as pd\n",
    "warnings.filterwarnings('ignore')\n",
    "\n",
    "%matplotlib inline\n",
    "pd.set_option('display.max_colwidth', 40)\n",
    "pd.set_option('display.max_rows', 16)\n"
   ]
  },
  {
   "cell_type": "code",
   "execution_count": 10,
   "metadata": {},
   "outputs": [
    {
     "name": "stdout",
     "output_type": "stream",
     "text": [
      "Overwriting /opt/utils/geo_utils/update_version.py\n"
     ]
    }
   ],
   "source": [
    "%%writefile \"/opt/utils/geo_utils/update_version.py\"\n",
    "#!/usr/bin/env python\n",
    "# GENERATED FROM geoapp/notebooks/commandLineUtils\n",
    "import re, sys, colabexts.utils as colabexts_utils\n",
    "\n",
    "def upver(file = \"../tseries/templates/tseries/footer.html\"):\n",
    "    txt = open(file, \"r\").read()\n",
    "    comp = re.compile(\"(.*version:[ ]+)([\\d\\.]+)\",  flags=re.MULTILINE|re.DOTALL|re.IGNORECASE)\n",
    "    vn=re.findall(comp, txt)\n",
    "    if (vn):\n",
    "        vn = vn[0][1]\n",
    "        nv = vn.split(\".\")\n",
    "        nv[-1] = str(int(nv[-1])+1 )\n",
    "        ns = \".\".join(nv)\n",
    "        result = re.sub(comp, rf\"\\1 {ns}\", txt)\n",
    "        print(f\"Updated {txt[-256:]}\\n{vn}==>{ns}\\n{result[-256:]}\")\n",
    "        open(file, \"w\").write(result)\n",
    "    else:\n",
    "        print(\"Pattern 'version: x.x.x' not found\")\n",
    "    \n",
    "#----------------------------------------------------------------------------------\n",
    "if __name__ == '__main__' and not colabexts_utils.inJupyter():\n",
    "    try:\n",
    "        upver(sys.argv[1])\n",
    "    except:\n",
    "        print(\"Require filename\")"
   ]
  },
  {
   "cell_type": "markdown",
   "metadata": {},
   "source": [
    "# Check URL and send email and fix if it is borken\n",
    "\n",
    "Put this in your crontab entry to run it every 5 minutes; you may check the output using tail\n",
    "\n",
    "[ ] crontab -e\n",
    "*/5 * * * * * ../gen/checksite.py > /tmp/GOTIT\n",
    "\n",
    "[ ] tail -f /tmp/GOTIT\n",
    "\n",
    "~"
   ]
  },
  {
   "cell_type": "code",
   "execution_count": 1,
   "metadata": {},
   "outputs": [
    {
     "name": "stdout",
     "output_type": "stream",
     "text": [
      "Writing ../gen/checksite.py\n"
     ]
    }
   ],
   "source": [
    "%%writefile \"../gen/checksite.py\"\n",
    "#!/usr/local/bin/python\n",
    "\n",
    "import datetime, requests, time, sys, os\n",
    "from django.core.mail import send_mail\n",
    "from django.conf import settings\n",
    "sys.path.append(os.path.expanduser(\"~/.django\") )\n",
    "import my_config\n",
    "\n",
    "if ( not settings.configured):\n",
    "    settings.configure(\n",
    "        EMAIL_USE_TLS       = my_config.EMAIL_USE_TLS       ,\n",
    "        EMAIL_HOST          = my_config.EMAIL_HOST          ,\n",
    "        EMAIL_PORT          = my_config.EMAIL_PORT          ,\n",
    "        DEFAULT_FROM_EMAIL  = my_config.DEFAULT_FROM_EMAIL  ,\n",
    "        EMAIL_HOST_USER     = my_config.EMAIL_HOST_USER     ,\n",
    "        EMAIL_HOST_PASSWORD = my_config.EMAIL_HOST_PASSWORD ,\n",
    "        EMAIL_BACKEND       = 'django.core.mail.backends.smtp.EmailBackend'\n",
    "    )\n",
    "\n",
    "def sendMail(to=\"sada@geospaces.org\", subject=\"hello\", msg=\"Check server!\"):\n",
    "    r = [f.strip() for f in to.split(\",\")]\n",
    "\n",
    "    try:\n",
    "        ret = send_mail( from_email= settings.DEFAULT_FROM_EMAIL, \n",
    "                        subject=subject, message=msg, \n",
    "                        recipient_list=r,fail_silently = False)\n",
    "    except Exception as e:\n",
    "        print(\"ERROR: \", e)\n",
    "\n",
    "    print(f'Sending Emails to {r} {ret}')\n",
    "    \n",
    "    \n",
    "def fixsite(s=\"\"):\n",
    "    print(f\"+++++ Fixing Site: {s}\")\n",
    "    SSHC = os.path.expanduser(\"~/ec2-keys/du1.sh\")\n",
    "    out=subprocess.run([SSHC, \"start.sh\"],  capture_output=True)\n",
    "    o=out.stdout.decode(\"utf-8\")\n",
    "    \n",
    "    out=subprocess.run([cmd1, \"screen -ls\"],  capture_output=True)\n",
    "    o=out.stdout.decode(\"utf-8\")\n",
    "    print(\"+++++ Fixing \", o)\n",
    "\n",
    "    \n",
    "def main(site=\"https://www.geospaces.org\"):\n",
    "    r, i = None, 0\n",
    "    print( f\"?: {datetime.datetime.now()}:  \", end=\"\")\n",
    "    try:\n",
    "        r = requests.get(site)\n",
    "        if ( r.status_code == 200):\n",
    "            txt = {r.text[0:60].replace('\\n', '<NL>')}\n",
    "            print(f\"+ {r.status_code} : {txt} ...\")\n",
    "    except Exception as e:\n",
    "        print( f\"ERROR: {e}\")\n",
    "        r = None\n",
    "        \n",
    "    if ( r is None):\n",
    "        print(f\"ERROR:  Fixing ...\")\n",
    "        sendMail(\"sada@geospaces.org\", f\"{site} Down\", f\"Checking {site} \")\n",
    "        fixsite(s)\n",
    "    \n",
    "#----------------------------------------------------------------------------------\n",
    "def inJupyter():\n",
    "    try:    get_ipython; return True\n",
    "    except: return False\n",
    "    \n",
    "if __name__ == '__main__' and not inJupyter():\n",
    "    main(\"https://www.geospaces.org\")\n",
    "    pass\n"
   ]
  },
  {
   "cell_type": "markdown",
   "metadata": {},
   "source": [
    "# Send multiple request and see the timing"
   ]
  },
  {
   "cell_type": "code",
   "execution_count": 1,
   "metadata": {},
   "outputs": [],
   "source": [
    "#%%writefile \"/opt/utils/geo_utils/mrequest.py\"\n",
    "#!/usr/bin/env python\n",
    "\n",
    "import datetime, requests, time, sys, os, time\n",
    "import multiprocessing\n",
    "\n",
    "'''\n",
    "Some notes on using multiprocessing \n",
    "\n",
    "Ex1: Creating one off background process - expect no returns\n",
    "\n",
    "    files = \"a1.csv a2.csv a3.csv\".split()\n",
    "    for f in files:\n",
    "        p = multiprocessing.Process(target=read_parq, args=([f, 10] ))\n",
    "        p.start()\n",
    "\n",
    "Ex2: Want return values? Create pool\n",
    "\n",
    "    files = \"a1.csv a2.csv a3.csv\".split()\n",
    "    nthreads = min(os.cpu_count(), len(files))\n",
    "    pool = Pool(processes=nthreads)\n",
    "\n",
    "    dfs=[]\n",
    "    for result in pool.starmap(read_parq, [(f, 5, 1) for f in files[0:2]]):\n",
    "        dfs.append(result)\n",
    "'''\n",
    "def testURL(site=\"https://www.geospaces.org\", id=0):\n",
    "    r, t1 = None, datetime.datetime.now()\n",
    "    print( f\"ID:=> {id} ?: {t1}:  \", end=\"\")\n",
    "    try:\n",
    "        r = requests.get(site)\n",
    "    except Exception as e:\n",
    "        print( f\"ERROR: {e}\")\n",
    "        return\n",
    "    \n",
    "    t2 = datetime.datetime.now()\n",
    "    if ( r is not None and r.status_code == 200):\n",
    "        txt = {r.text[0:32].replace('\\n', '<NL>')}\n",
    "        print(f\"ID:=> {id}+Took:{t2-t1}  {r.status_code} : {txt} ...\", flush=True)\n",
    "    else:\n",
    "        print(f\"ID:=> {id}+ ERROR: {t2-t1} Status: {r.status_code}\", flush=True)\n",
    "#-----------------------------------------------\n",
    "def main(*argv):  \n",
    "    if ( len(argv) <2):\n",
    "        print(f\"Usage: <url> [#of times to call: default is 1] {len(argv)} {argv}\")\n",
    "        return\n",
    "\n",
    "    n, url, delay = 1, argv[1], 0\n",
    "    if ( len(argv) >= 3):\n",
    "        n  = int(argv[2])\n",
    "    if ( len(argv) >= 4):\n",
    "        delay  = int(argv[3])\n",
    "    #ps = []\n",
    "    print(f\"Testing URL: {url} #times: {n} Delay:{delay}\")\n",
    "    for i in range(n):\n",
    "        p = multiprocessing.Process(target=testURL, args=([url, i] ))\n",
    "        r = p.start()\n",
    "        if ( delay > 0):\n",
    "            print(f\"Sleeping for {delay} seconds\")\n",
    "            time.sleep(delay)\n",
    "\n",
    "def inJupyter():\n",
    "    try:    get_ipython; return True\n",
    "    except: return False\n",
    "\n",
    "if __name__ == '__main__' and not inJupyter():\n",
    "    main(*sys.argv)\n",
    "    pass\n",
    "\n",
    "\n",
    "#main(\"\",\"https://www.linkedin.com/\",1)"
   ]
  },
  {
   "cell_type": "code",
   "execution_count": 51,
   "metadata": {},
   "outputs": [
    {
     "name": "stdout",
     "output_type": "stream",
     "text": [
      "ID:=> 0 ?: 2023-08-06 18:41:38.182238:  ID:=> 0+Took:0:00:00.838916  200 : {'<!DOCTYPE html><NL><NL><NL>    <NL>    <NL>    '} ...\n"
     ]
    }
   ],
   "source": [
    "testURL(\"https://www.linkedin.com/\")\n",
    "#main(\"\",\"https://www.linkedin.com/\",1)"
   ]
  },
  {
   "cell_type": "markdown",
   "metadata": {},
   "source": [
    "# Tamper Monkey"
   ]
  },
  {
   "cell_type": "code",
   "execution_count": null,
   "metadata": {},
   "outputs": [],
   "source": [
    "# Tamper Monkey\n",
    "\n",
    "Create the following script\n",
    "\n",
    "```\n",
    "// ==UserScript==\n",
    "// @name         sadatest\n",
    "// @namespace    http://tampermonkey.net/\n",
    "// @version      0.1\n",
    "// @description  try to take over the world!\n",
    "// @author       You\n",
    "// @match        https://learning.oreilly.com/library/view/*\n",
    "// @grant        GM_registerMenuCommand\n",
    "// @run-at       context-menu\n",
    "// ==/UserScript==\n",
    "(function() {\n",
    "    'use strict';\n",
    "    // Your code here...\n",
    "    console.log(\"hello\");\n",
    "    hide()\n",
    "})();\n",
    "GM_registerMenuCommand('Run my Script', function() {\n",
    "   alert('it runs!');\n",
    "})\n",
    "function test2(clsname){\n",
    "    var ae=document.getElementsByClassName(clsname);\n",
    "    var lengthOfArray=ae.length;\n",
    "\n",
    "    for (var i=0; i<lengthOfArray;i++){\n",
    "        ae[i].style.display='none';\n",
    "    }\n",
    "    return ae;\n",
    "}\n",
    "function test21(clsname){\n",
    "    var ae=document.getElementById(clsname);\n",
    "    ae.style.maxWidth=\"1800px\";\n",
    "    ae.style.margin=0;\n",
    "    ae.style.padding=0;\n",
    "    return ae\n",
    "}\n",
    "function hide(){\n",
    "    test2('topbar')\n",
    "    test2('topbar t-topbar')\n",
    "    test2('Index')\n",
    "    test2('pagefoot')\n",
    "    test2('interface-controls')\n",
    "    var ae = test21('sbo-rt-content')\n",
    "\n",
    "    return ae\n",
    "}\n",
    "```\n"
   ]
  },
  {
   "cell_type": "markdown",
   "metadata": {},
   "source": [
    "# CONNECT TO WEBSOCKET"
   ]
  },
  {
   "cell_type": "code",
   "execution_count": 10,
   "metadata": {},
   "outputs": [],
   "source": [
    "import requests\n",
    "\n",
    "url=\"http://localhost:7004/broadcast/?room=alert&message=test how are you 1\"\n",
    "r = requests.post(url=url)\n"
   ]
  },
  {
   "cell_type": "code",
   "execution_count": 1,
   "metadata": {},
   "outputs": [
    {
     "data": {
      "text/plain": [
       "True"
      ]
     },
     "execution_count": 1,
     "metadata": {},
     "output_type": "execute_result"
    }
   ],
   "source": [
    "\"EMAIL\" in \"DSDSKJ EMAIL AHJKDS\""
   ]
  },
  {
   "cell_type": "code",
   "execution_count": null,
   "metadata": {},
   "outputs": [],
   "source": []
  }
 ],
 "metadata": {
  "hide_input": false,
  "kernelspec": {
   "display_name": "Python 3 (ipykernel)",
   "language": "python",
   "name": "python3"
  },
  "language_info": {
   "codemirror_mode": {
    "name": "ipython",
    "version": 3
   },
   "file_extension": ".py",
   "mimetype": "text/x-python",
   "name": "python",
   "nbconvert_exporter": "python",
   "pygments_lexer": "ipython3",
   "version": "3.11.6"
  },
  "toc": {
   "base_numbering": 1,
   "nav_menu": {},
   "number_sections": true,
   "sideBar": true,
   "skip_h1_title": false,
   "title_cell": "Table of Contents",
   "title_sidebar": "Contents",
   "toc_cell": false,
   "toc_position": {},
   "toc_section_display": true,
   "toc_window_display": false
  },
  "varInspector": {
   "cols": {
    "lenName": 16,
    "lenType": 16,
    "lenVar": 40
   },
   "kernels_config": {
    "python": {
     "delete_cmd_postfix": "",
     "delete_cmd_prefix": "del ",
     "library": "var_list.py",
     "varRefreshCmd": "print(var_dic_list())"
    },
    "r": {
     "delete_cmd_postfix": ") ",
     "delete_cmd_prefix": "rm(",
     "library": "var_list.r",
     "varRefreshCmd": "cat(var_dic_list()) "
    }
   },
   "types_to_exclude": [
    "module",
    "function",
    "builtin_function_or_method",
    "instance",
    "_Feature"
   ],
   "window_display": false
  }
 },
 "nbformat": 4,
 "nbformat_minor": 4
}
