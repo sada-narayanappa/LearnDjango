{
 "cells": [
  {
   "cell_type": "code",
   "execution_count": 2,
   "id": "4f56744f",
   "metadata": {},
   "outputs": [
    {
     "name": "stdout",
     "output_type": "stream",
     "text": [
      "Overwriting ../services.py\n"
     ]
    }
   ],
   "source": [
    "%%writefile ../services.py\n",
    "#!/usr/local/bin/python \n",
    "\n",
    "#*** DO NOT EDIT - GENERATED FROM services.ipynb ****\n",
    "\n",
    "import os\n",
    "import pandas as pd\n",
    "from  mangorest.mango import webapi\n",
    "#--------------------------------------------------------------------------------------------------------    \n",
    "@webapi(\"/app1/test\")\n",
    "def test( request,  **kwargs):\n",
    "    return \"APP 1 TEST version 1.0\"\n",
    "#--------------------------------------------------------------------------------------------------------    \n",
    "@webapi(\"/app1/uploadfile\")\n",
    "def uploadfile( request,  **kwargs):\n",
    "    par = dict(request.GET)\n",
    "    par.update(request.POST)\n",
    "\n",
    "    DESTDIR =\"/tmp/MYAPP/\"\n",
    "    print(\"uploadfile : \", DESTDIR, kwargs)\n",
    "    \n",
    "    if (not os.path.exists(DESTDIR)):\n",
    "        os.makedirs(DESTDIR)\n",
    "    \n",
    "    ret = \"Files:\\n\"\n",
    "    for f in request.FILES.getlist('file'):\n",
    "        content = f.read()\n",
    "        filename = f\"{DESTDIR}{str(f)}\"\n",
    "        print(f\"++ Save file {filename} Content: {len(content)} :\")\n",
    "        with open(filename, \"wb\") as f:\n",
    "            f.write(content)\n",
    "        ret += filename + \"\\n\"\n",
    "\n",
    "    print(\" Retuning \", ret )\n",
    "    return ret\n",
    "#--------------------------------------------------------------------------------------------------------    \n",
    "@webapi(\"/app1/processfile\")\n",
    "def processfile( request, **kwargs):\n",
    "    print(\"processing file: \", kwargs)\n",
    "\n",
    "    ret = uploadfile(request, **kwargs)\n",
    "    ret1= \"Processed: \\n\"\n",
    "    for f in ret.split('\\n')[1:]:\n",
    "        if ( not f):\n",
    "            continue;\n",
    "        # do something and return the results\n",
    "        \n",
    "        print(\"processing file: \", f)\n",
    "        ret1 += f\"{f} => Processed\\n\"\n",
    "    \n",
    "    return ret + \"\\n\\n\" + ret1;\n"
   ]
  }
 ],
 "metadata": {
  "hide_input": false,
  "kernelspec": {
   "display_name": "Python 3 (ipykernel)",
   "language": "python",
   "name": "python3"
  },
  "language_info": {
   "codemirror_mode": {
    "name": "ipython",
    "version": 3
   },
   "file_extension": ".py",
   "mimetype": "text/x-python",
   "name": "python",
   "nbconvert_exporter": "python",
   "pygments_lexer": "ipython3",
   "version": "3.8.3 (default, Jul  2 2020, 11:26:31) \n[Clang 10.0.0 ]"
  },
  "toc": {
   "base_numbering": 1,
   "nav_menu": {},
   "number_sections": true,
   "sideBar": true,
   "skip_h1_title": false,
   "title_cell": "Table of Contents",
   "title_sidebar": "Contents",
   "toc_cell": false,
   "toc_position": {},
   "toc_section_display": true,
   "toc_window_display": false
  },
  "varInspector": {
   "cols": {
    "lenName": 16,
    "lenType": 16,
    "lenVar": 40
   },
   "kernels_config": {
    "python": {
     "delete_cmd_postfix": "",
     "delete_cmd_prefix": "del ",
     "library": "var_list.py",
     "varRefreshCmd": "print(var_dic_list())"
    },
    "r": {
     "delete_cmd_postfix": ") ",
     "delete_cmd_prefix": "rm(",
     "library": "var_list.r",
     "varRefreshCmd": "cat(var_dic_list()) "
    }
   },
   "types_to_exclude": [
    "module",
    "function",
    "builtin_function_or_method",
    "instance",
    "_Feature"
   ],
   "window_display": false
  },
  "vscode": {
   "interpreter": {
    "hash": "949777d72b0d2535278d3dc13498b2535136f6dfe0678499012e853ee9abcab1"
   }
  }
 },
 "nbformat": 4,
 "nbformat_minor": 5
}
